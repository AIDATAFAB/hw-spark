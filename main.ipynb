{
 "cells": [
  {
   "cell_type": "code",
   "execution_count": 1,
   "metadata": {},
   "outputs": [
    {
     "name": "stdout",
     "output_type": "stream",
     "text": [
      "Requirement already satisfied: pyspark in /home/codespace/.python/current/lib/python3.12/site-packages (3.5.4)\n",
      "Requirement already satisfied: delta-spark in /home/codespace/.python/current/lib/python3.12/site-packages (3.3.0)\n",
      "Requirement already satisfied: pandas in /home/codespace/.local/lib/python3.12/site-packages (2.2.3)\n",
      "Requirement already satisfied: setuptools in /home/codespace/.local/lib/python3.12/site-packages (75.6.0)\n",
      "Requirement already satisfied: py4j==0.10.9.7 in /home/codespace/.python/current/lib/python3.12/site-packages (from pyspark) (0.10.9.7)\n",
      "Requirement already satisfied: importlib-metadata>=1.0.0 in /home/codespace/.python/current/lib/python3.12/site-packages (from delta-spark) (8.6.1)\n",
      "Requirement already satisfied: numpy>=1.26.0 in /home/codespace/.local/lib/python3.12/site-packages (from pandas) (2.2.0)\n",
      "Requirement already satisfied: python-dateutil>=2.8.2 in /home/codespace/.local/lib/python3.12/site-packages (from pandas) (2.9.0.post0)\n",
      "Requirement already satisfied: pytz>=2020.1 in /home/codespace/.local/lib/python3.12/site-packages (from pandas) (2024.2)\n",
      "Requirement already satisfied: tzdata>=2022.7 in /home/codespace/.local/lib/python3.12/site-packages (from pandas) (2024.2)\n",
      "Requirement already satisfied: zipp>=3.20 in /home/codespace/.python/current/lib/python3.12/site-packages (from importlib-metadata>=1.0.0->delta-spark) (3.21.0)\n",
      "Requirement already satisfied: six>=1.5 in /home/codespace/.local/lib/python3.12/site-packages (from python-dateutil>=2.8.2->pandas) (1.17.0)\n",
      "Note: you may need to restart the kernel to use updated packages.\n"
     ]
    }
   ],
   "source": [
    "%pip install pyspark delta-spark pandas setuptools"
   ]
  },
  {
   "cell_type": "code",
   "execution_count": null,
   "metadata": {},
   "outputs": [
    {
     "name": "stderr",
     "output_type": "stream",
     "text": [
      "25/02/09 13:03:16 WARN Utils: Your hostname, codespaces-f6f13d resolves to a loopback address: 127.0.0.1; using 10.0.2.145 instead (on interface eth0)\n",
      "25/02/09 13:03:16 WARN Utils: Set SPARK_LOCAL_IP if you need to bind to another address\n"
     ]
    },
    {
     "name": "stdout",
     "output_type": "stream",
     "text": [
      ":: loading settings :: url = jar:file:/usr/local/python/3.12.1/lib/python3.12/site-packages/pyspark/jars/ivy-2.5.1.jar!/org/apache/ivy/core/settings/ivysettings.xml\n"
     ]
    },
    {
     "name": "stderr",
     "output_type": "stream",
     "text": [
      "Ivy Default Cache set to: /home/codespace/.ivy2/cache\n",
      "The jars for the packages stored in: /home/codespace/.ivy2/jars\n",
      "io.delta#delta-spark_2.12 added as a dependency\n",
      ":: resolving dependencies :: org.apache.spark#spark-submit-parent-13aab19a-bf21-49ae-8679-40c54c18e388;1.0\n",
      "\tconfs: [default]\n",
      "\tfound io.delta#delta-spark_2.12;3.3.0 in central\n",
      "\tfound io.delta#delta-storage;3.3.0 in central\n",
      "\tfound org.antlr#antlr4-runtime;4.9.3 in central\n",
      ":: resolution report :: resolve 296ms :: artifacts dl 10ms\n",
      "\t:: modules in use:\n",
      "\tio.delta#delta-spark_2.12;3.3.0 from central in [default]\n",
      "\tio.delta#delta-storage;3.3.0 from central in [default]\n",
      "\torg.antlr#antlr4-runtime;4.9.3 from central in [default]\n",
      "\t---------------------------------------------------------------------\n",
      "\t|                  |            modules            ||   artifacts   |\n",
      "\t|       conf       | number| search|dwnlded|evicted|| number|dwnlded|\n",
      "\t---------------------------------------------------------------------\n",
      "\t|      default     |   3   |   0   |   0   |   0   ||   3   |   0   |\n",
      "\t---------------------------------------------------------------------\n",
      ":: retrieving :: org.apache.spark#spark-submit-parent-13aab19a-bf21-49ae-8679-40c54c18e388\n",
      "\tconfs: [default]\n",
      "\t0 artifacts copied, 3 already retrieved (0kB/6ms)\n",
      "25/02/09 13:03:16 WARN NativeCodeLoader: Unable to load native-hadoop library for your platform... using builtin-java classes where applicable\n",
      "Setting default log level to \"WARN\".\n",
      "To adjust logging level use sc.setLogLevel(newLevel). For SparkR, use setLogLevel(newLevel).\n"
     ]
    },
    {
     "name": "stderr",
     "output_type": "stream",
     "text": [
      "25/02/09 13:03:30 WARN GarbageCollectionMetrics: To enable non-built-in garbage collector(s) List(G1 Concurrent GC), users should configure it(them) to spark.eventLog.gcMetrics.youngGenerationGarbageCollectors or spark.eventLog.gcMetrics.oldGenerationGarbageCollectors\n"
     ]
    }
   ],
   "source": [
    "import pyspark\n",
    "from delta import configure_spark_with_delta_pip\n",
    "\n",
    "builder = pyspark.sql.SparkSession.builder.appName(\"aig\") \\\n",
    "    .config(\"spark.sql.extensions\", \"io.delta.sql.DeltaSparkSessionExtension\") \\\n",
    "    .config(\"spark.sql.catalog.spark_catalog\", \"org.apache.spark.sql.delta.catalog.DeltaCatalog\")\n",
    "\n",
    "ss = configure_spark_with_delta_pip(builder).getOrCreate()\n",
    "\n",
    "sql = ss.sql"
   ]
  },
  {
   "cell_type": "code",
   "execution_count": 6,
   "metadata": {},
   "outputs": [
    {
     "name": "stderr",
     "output_type": "stream",
     "text": [
      "File ‘/tmp/name.basics.tsv.gz’ already there; not retrieving.\n",
      "File ‘/tmp/title.akas.tsv.gz’ already there; not retrieving.\n",
      "File ‘/tmp/title.basics.tsv.gz’ already there; not retrieving.\n",
      "File ‘/tmp/title.crew.tsv.gz’ already there; not retrieving.\n",
      "File ‘/tmp/title.episode.tsv.gz’ already there; not retrieving.\n",
      "File ‘/tmp/title.principals.tsv.gz’ already there; not retrieving.\n",
      "File ‘/tmp/title.ratings.tsv.gz’ already there; not retrieving.\n"
     ]
    }
   ],
   "source": [
    "import subprocess\n",
    "\n",
    "files = [\n",
    "    'name.basics.tsv.gz',\n",
    "    'title.akas.tsv.gz',\n",
    "    'title.basics.tsv.gz',\n",
    "    'title.crew.tsv.gz',\n",
    "    'title.episode.tsv.gz',\n",
    "    'title.principals.tsv.gz',\n",
    "    'title.ratings.tsv.gz'\n",
    "]\n",
    "\n",
    "for file in files:\n",
    "    subprocess.run([\"wget\", \"https://datasets.imdbws.com/\" + file, \"-nc\", \"-O\", \"/tmp/\" + file])    \n",
    "\n",
    "for file in files:\n",
    "    table_name = file.replace('.tsv.gz', '').replace('.', '_')\n",
    "    ss.read.csv(\"/tmp/\" + file, header=True, sep='\\t', nullValue='\\\\N').createOrReplaceTempView(table_name + \"_csv\")"
   ]
  },
  {
   "cell_type": "code",
   "execution_count": 10,
   "metadata": {},
   "outputs": [
    {
     "name": "stdout",
     "output_type": "stream",
     "text": [
      "+---------+---------+-------------------------------------------+-------------------------------------------------+-------+---------+-------+--------------+------------------------+\n",
      "|tconst   |titleType|primaryTitle                               |originalTitle                                    |isAdult|startYear|endYear|runtimeMinutes|genres                  |\n",
      "+---------+---------+-------------------------------------------+-------------------------------------------------+-------+---------+-------+--------------+------------------------+\n",
      "|tt0000001|short    |Carmencita                                 |Carmencita                                       |0      |1894     |NULL   |1             |Documentary,Short       |\n",
      "|tt0000002|short    |Le clown et ses chiens                     |Le clown et ses chiens                           |0      |1892     |NULL   |5             |Animation,Short         |\n",
      "|tt0000003|short    |Poor Pierrot                               |Pauvre Pierrot                                   |0      |1892     |NULL   |5             |Animation,Comedy,Romance|\n",
      "|tt0000004|short    |Un bon bock                                |Un bon bock                                      |0      |1892     |NULL   |12            |Animation,Short         |\n",
      "|tt0000005|short    |Blacksmith Scene                           |Blacksmith Scene                                 |0      |1893     |NULL   |1             |Short                   |\n",
      "|tt0000006|short    |Chinese Opium Den                          |Chinese Opium Den                                |0      |1894     |NULL   |1             |Short                   |\n",
      "|tt0000007|short    |Corbett and Courtney Before the Kinetograph|Corbett and Courtney Before the Kinetograph      |0      |1894     |NULL   |1             |Short,Sport             |\n",
      "|tt0000008|short    |Edison Kinetoscopic Record of a Sneeze     |Edison Kinetoscopic Record of a Sneeze           |0      |1894     |NULL   |1             |Documentary,Short       |\n",
      "|tt0000009|movie    |Miss Jerry                                 |Miss Jerry                                       |0      |1894     |NULL   |45            |Romance                 |\n",
      "|tt0000010|short    |Leaving the Factory                        |La sortie de l'usine Lumière à Lyon              |0      |1895     |NULL   |1             |Documentary,Short       |\n",
      "|tt0000011|short    |Akrobatisches Potpourri                    |Akrobatisches Potpourri                          |0      |1895     |NULL   |1             |Documentary,Short       |\n",
      "|tt0000012|short    |The Arrival of a Train                     |L'arrivée d'un train à La Ciotat                 |0      |1896     |NULL   |1             |Documentary,Short       |\n",
      "|tt0000013|short    |The Photographical Congress Arrives in Lyon|Le débarquement du congrès de photographie à Lyon|0      |1895     |NULL   |1             |Documentary,Short       |\n",
      "|tt0000014|short    |The Waterer Watered                        |L'arroseur arrosé                                |0      |1895     |NULL   |1             |Comedy,Short            |\n",
      "|tt0000015|short    |Around a Cabin                             |Autour d'une cabine                              |0      |1894     |NULL   |2             |Animation,Short         |\n",
      "|tt0000016|short    |Boat Leaving the Port                      |Barque sortant du port                           |0      |1895     |NULL   |1             |Documentary,Short       |\n",
      "|tt0000017|short    |Italienischer Bauerntanz                   |Italienischer Bauerntanz                         |0      |1895     |NULL   |1             |Documentary,Short       |\n",
      "|tt0000018|short    |Das boxende Känguruh                       |Das boxende Känguruh                             |0      |1895     |NULL   |1             |Short,Sport             |\n",
      "|tt0000019|short    |The Clown Barber                           |The Clown Barber                                 |0      |1898     |NULL   |NULL          |Comedy,Short            |\n",
      "|tt0000020|short    |The Derby 1895                             |The Derby 1895                                   |0      |1895     |NULL   |1             |Documentary,Short,Sport |\n",
      "+---------+---------+-------------------------------------------+-------------------------------------------------+-------+---------+-------+--------------+------------------------+\n",
      "only showing top 20 rows\n",
      "\n"
     ]
    }
   ],
   "source": [
    "sql(\"\"\"\n",
    "SELECT * FROM title_basics_csv\n",
    "\"\"\").show(truncate=False)"
   ]
  }
 ],
 "metadata": {
  "kernelspec": {
   "display_name": "Python 3",
   "language": "python",
   "name": "python3"
  },
  "language_info": {
   "codemirror_mode": {
    "name": "ipython",
    "version": 3
   },
   "file_extension": ".py",
   "mimetype": "text/x-python",
   "name": "python",
   "nbconvert_exporter": "python",
   "pygments_lexer": "ipython3",
   "version": "3.12.1"
  }
 },
 "nbformat": 4,
 "nbformat_minor": 2
}
