{
 "cells": [
  {
   "cell_type": "code",
   "execution_count": 1,
   "metadata": {},
   "outputs": [
    {
     "name": "stdout",
     "output_type": "stream",
     "text": [
      "Requirement already satisfied: pyspark in /home/codespace/.python/current/lib/python3.12/site-packages (3.5.4)\n",
      "Requirement already satisfied: delta-spark in /home/codespace/.python/current/lib/python3.12/site-packages (3.3.0)\n",
      "Requirement already satisfied: pandas in /home/codespace/.local/lib/python3.12/site-packages (2.2.3)\n",
      "Requirement already satisfied: setuptools in /home/codespace/.local/lib/python3.12/site-packages (75.6.0)\n",
      "Requirement already satisfied: py4j==0.10.9.7 in /home/codespace/.python/current/lib/python3.12/site-packages (from pyspark) (0.10.9.7)\n",
      "Requirement already satisfied: importlib-metadata>=1.0.0 in /home/codespace/.python/current/lib/python3.12/site-packages (from delta-spark) (8.6.1)\n",
      "Requirement already satisfied: numpy>=1.26.0 in /home/codespace/.local/lib/python3.12/site-packages (from pandas) (2.2.0)\n",
      "Requirement already satisfied: python-dateutil>=2.8.2 in /home/codespace/.local/lib/python3.12/site-packages (from pandas) (2.9.0.post0)\n",
      "Requirement already satisfied: pytz>=2020.1 in /home/codespace/.local/lib/python3.12/site-packages (from pandas) (2024.2)\n",
      "Requirement already satisfied: tzdata>=2022.7 in /home/codespace/.local/lib/python3.12/site-packages (from pandas) (2024.2)\n",
      "Requirement already satisfied: zipp>=3.20 in /home/codespace/.python/current/lib/python3.12/site-packages (from importlib-metadata>=1.0.0->delta-spark) (3.21.0)\n",
      "Requirement already satisfied: six>=1.5 in /home/codespace/.local/lib/python3.12/site-packages (from python-dateutil>=2.8.2->pandas) (1.17.0)\n",
      "Note: you may need to restart the kernel to use updated packages.\n"
     ]
    }
   ],
   "source": [
    "%pip install pyspark delta-spark pandas setuptools"
   ]
  },
  {
   "cell_type": "code",
   "execution_count": 4,
   "metadata": {},
   "outputs": [
    {
     "name": "stderr",
     "output_type": "stream",
     "text": [
      "25/02/09 16:08:39 WARN Utils: Your hostname, codespaces-f6f13d resolves to a loopback address: 127.0.0.1; using 10.0.2.145 instead (on interface eth0)\n",
      "25/02/09 16:08:39 WARN Utils: Set SPARK_LOCAL_IP if you need to bind to another address\n"
     ]
    },
    {
     "name": "stdout",
     "output_type": "stream",
     "text": [
      ":: loading settings :: url = jar:file:/usr/local/python/3.12.1/lib/python3.12/site-packages/pyspark/jars/ivy-2.5.1.jar!/org/apache/ivy/core/settings/ivysettings.xml\n"
     ]
    },
    {
     "name": "stderr",
     "output_type": "stream",
     "text": [
      "Ivy Default Cache set to: /home/codespace/.ivy2/cache\n",
      "The jars for the packages stored in: /home/codespace/.ivy2/jars\n",
      "io.delta#delta-spark_2.12 added as a dependency\n",
      ":: resolving dependencies :: org.apache.spark#spark-submit-parent-13ae2ce8-9491-4ae2-a627-fdfd062adcc8;1.0\n",
      "\tconfs: [default]\n",
      "\tfound io.delta#delta-spark_2.12;3.3.0 in central\n",
      "\tfound io.delta#delta-storage;3.3.0 in central\n",
      "\tfound org.antlr#antlr4-runtime;4.9.3 in central\n",
      ":: resolution report :: resolve 220ms :: artifacts dl 8ms\n",
      "\t:: modules in use:\n",
      "\tio.delta#delta-spark_2.12;3.3.0 from central in [default]\n",
      "\tio.delta#delta-storage;3.3.0 from central in [default]\n",
      "\torg.antlr#antlr4-runtime;4.9.3 from central in [default]\n",
      "\t---------------------------------------------------------------------\n",
      "\t|                  |            modules            ||   artifacts   |\n",
      "\t|       conf       | number| search|dwnlded|evicted|| number|dwnlded|\n",
      "\t---------------------------------------------------------------------\n",
      "\t|      default     |   3   |   0   |   0   |   0   ||   3   |   0   |\n",
      "\t---------------------------------------------------------------------\n",
      ":: retrieving :: org.apache.spark#spark-submit-parent-13ae2ce8-9491-4ae2-a627-fdfd062adcc8\n",
      "\tconfs: [default]\n",
      "\t0 artifacts copied, 3 already retrieved (0kB/7ms)\n",
      "25/02/09 16:08:40 WARN NativeCodeLoader: Unable to load native-hadoop library for your platform... using builtin-java classes where applicable\n",
      "Setting default log level to \"WARN\".\n",
      "To adjust logging level use sc.setLogLevel(newLevel). For SparkR, use setLogLevel(newLevel).\n"
     ]
    }
   ],
   "source": [
    "import pyspark\n",
    "from delta import configure_spark_with_delta_pip\n",
    "\n",
    "builder = pyspark.sql.SparkSession.builder.appName(\"aig\") \\\n",
    "    .config(\"spark.sql.extensions\", \"io.delta.sql.DeltaSparkSessionExtension\") \\\n",
    "    .config(\"spark.sql.catalog.spark_catalog\", \"org.apache.spark.sql.delta.catalog.DeltaCatalog\")\n",
    "\n",
    "ss = configure_spark_with_delta_pip(builder).getOrCreate()\n",
    "\n",
    "sql = ss.sql"
   ]
  },
  {
   "cell_type": "code",
   "execution_count": 5,
   "metadata": {},
   "outputs": [
    {
     "name": "stderr",
     "output_type": "stream",
     "text": [
      "File ‘/tmp/name.basics.tsv.gz’ already there; not retrieving.\n",
      "File ‘/tmp/title.akas.tsv.gz’ already there; not retrieving.\n",
      "File ‘/tmp/title.basics.tsv.gz’ already there; not retrieving.\n",
      "File ‘/tmp/title.crew.tsv.gz’ already there; not retrieving.\n",
      "File ‘/tmp/title.episode.tsv.gz’ already there; not retrieving.\n",
      "File ‘/tmp/title.principals.tsv.gz’ already there; not retrieving.\n",
      "File ‘/tmp/title.ratings.tsv.gz’ already there; not retrieving.\n"
     ]
    }
   ],
   "source": [
    "import subprocess\n",
    "\n",
    "files = [\n",
    "    'name.basics.tsv.gz',\n",
    "    'title.akas.tsv.gz',\n",
    "    'title.basics.tsv.gz',\n",
    "    'title.crew.tsv.gz',\n",
    "    'title.episode.tsv.gz',\n",
    "    'title.principals.tsv.gz',\n",
    "    'title.ratings.tsv.gz'\n",
    "]\n",
    "\n",
    "for file in files:\n",
    "    subprocess.run([\"wget\", \"https://datasets.imdbws.com/\" + file, \"-nc\", \"-O\", \"/tmp/\" + file])    \n",
    "\n",
    "for file in files:\n",
    "    table_name = file.replace('.tsv.gz', '').replace('.', '_')\n",
    "    ss.read.csv(\"/tmp/\" + file, header=True, sep='\\t', nullValue='\\\\N').createOrReplaceTempView(table_name + \"_csv\")"
   ]
  },
  {
   "cell_type": "code",
   "execution_count": null,
   "metadata": {},
   "outputs": [],
   "source": [
    "from pathlib import Path\n",
    "\n",
    "def load_spark_tables(ss: pyspark.sql.SparkSession, schema: str, warehouse_path: Path):\n",
    "    ss.sql(\"CREATE SCHEMA IF NOT EXISTS \" + schema).collect()\n",
    "\n",
    "    if warehouse_path.exists():\n",
    "        for item in warehouse_path.glob('*'):\n",
    "            table_name = schema + \".\" + item.name\n",
    "            print(\"LOAD TABLE \" + table_name)\n",
    "            ss.catalog.createTable(table_name, path=item.absolute().as_posix(), source='delta')\n",
    "\n",
    "load_spark_tables(ss, \"baseline\", Path(\"./tests\") / 'baseline-warehouse' / 'baseline.db')\n"
   ]
  },
  {
   "cell_type": "code",
   "execution_count": 17,
   "metadata": {},
   "outputs": [
    {
     "name": "stderr",
     "output_type": "stream",
     "text": [
      "[Stage 20:>                                                         (0 + 1) / 1]\r"
     ]
    },
    {
     "name": "stdout",
     "output_type": "stream",
     "text": [
      "+-----------+-------------+------------------+\n",
      "|genre      |sum(numVotes)|avg(averageRating)|\n",
      "+-----------+-------------+------------------+\n",
      "|Crime      |314477334    |7.111348385399751 |\n",
      "|Romance    |177515619    |6.963582672300842 |\n",
      "|Thriller   |231993717    |6.437873087534484 |\n",
      "|Adventure  |410107979    |7.1079752857222305|\n",
      "|Drama      |829684185    |7.054152508418149 |\n",
      "|War        |29688491     |7.04596967278532  |\n",
      "|Documentary|31145139     |7.237939083924439 |\n",
      "|Reality-TV |5359464      |7.059994501619527 |\n",
      "|Family     |68794179     |7.085333261150007 |\n",
      "|Fantasy    |143976380    |7.072739683037801 |\n",
      "|Game-Show  |2714331      |7.097522846288134 |\n",
      "|Adult      |911819       |6.2423683759218385|\n",
      "|History    |44615006     |7.355752819589149 |\n",
      "|Mystery    |173497868    |7.0804702428757045|\n",
      "|Musical    |12162630     |6.612117537978759 |\n",
      "|Animation  |136274659    |7.1375507431547165|\n",
      "|Music      |29593415     |7.072352091748102 |\n",
      "|Film-Noir  |4029261      |6.455414746543779 |\n",
      "|Short      |11163242     |6.831086724343436 |\n",
      "|Horror     |146780739    |6.113735807255583 |\n",
      "+-----------+-------------+------------------+\n",
      "only showing top 20 rows\n",
      "\n"
     ]
    },
    {
     "name": "stderr",
     "output_type": "stream",
     "text": [
      "                                                                                \r"
     ]
    }
   ],
   "source": [
    "sql(\"\"\"\n",
    "WITH report AS\n",
    "(\n",
    "SELECT \n",
    "    explode(split(genres, ',')) AS genre, \n",
    "    CAST(numVotes AS INT) as numVotes, \n",
    "    CAST(averageRating AS DOUBLE) AS averageRating\n",
    "FROM title_basics_csv\n",
    "JOIN title_ratings_csv USING (tconst)\n",
    ")\n",
    "\n",
    "SELECT \n",
    "    genre, \n",
    "    SUM(numVotes) AS numVotes, \n",
    "    AVG(averageRating) AS averageRating\n",
    "FROM report \n",
    "GROUP BY genre\n",
    "\n",
    "\"\"\").show(truncate=False)"
   ]
  }
 ],
 "metadata": {
  "kernelspec": {
   "display_name": "Python 3",
   "language": "python",
   "name": "python3"
  },
  "language_info": {
   "codemirror_mode": {
    "name": "ipython",
    "version": 3
   },
   "file_extension": ".py",
   "mimetype": "text/x-python",
   "name": "python",
   "nbconvert_exporter": "python",
   "pygments_lexer": "ipython3",
   "version": "3.12.1"
  }
 },
 "nbformat": 4,
 "nbformat_minor": 2
}
